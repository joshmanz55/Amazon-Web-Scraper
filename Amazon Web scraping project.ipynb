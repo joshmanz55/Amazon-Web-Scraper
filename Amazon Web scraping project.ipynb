{
 "cells": [
  {
   "cell_type": "code",
   "execution_count": 1,
   "id": "6ab65690",
   "metadata": {},
   "outputs": [],
   "source": [
    "#import libraries\n",
    "\n",
    "from bs4 import BeautifulSoup\n",
    "import requests\n",
    "import smtplib\n",
    "import time\n",
    "import datetime"
   ]
  },
  {
   "cell_type": "code",
   "execution_count": 2,
   "id": "0ed3bb5e",
   "metadata": {},
   "outputs": [
    {
     "name": "stdout",
     "output_type": "stream",
     "text": [
      "\n",
      "            RFUNGUANGO Automatic Pop-up Case Compatible with AirPods Pro 2nd Generation/1st Generation with Secure Lock Clip,Full-Body Shockproof Hard Protective Cover for AirPods Pro (2022/2019) - Black\n",
      "           \n",
      "\n",
      "                         $11.99\n",
      "                        \n"
     ]
    }
   ],
   "source": [
    "#request data/convert to soup/scrape title and price\n",
    "URL = 'https://www.amazon.com/RFUNGUANGO-Compatible-Generation-Shockproof-Protective/dp/B0BCHVQYK2/ref=sr_1_16?crid=2VS1YMPAQ049N&keywords=1st%2Bgeneration%2Bairpod%2Bpro%2Bcase&qid=1667429841&qu=eyJxc2MiOiIzLjM3IiwicXNhIjoiMi4wMCIsInFzcCI6IjAuMDAifQ%3D%3D&sprefix=1st%2Bgeneration%2Bairpod%2Bpro%2Bcase%2Caps%2C86&sr=8-16&th=1'\n",
    "\n",
    "headers = {\"User-Agent\": \"Mozilla/5.0 (Windows NT 10.0; Win64; x64) AppleWebKit/537.36 (KHTML, like Gecko) Chrome/78.0.3904.108 Safari/537.36\", \"Accept-Encoding\":\"gzip, deflate\", \"Accept\":\"text/html,application/xhtml+xml,application/xml;q=0.9,*/*;q=0.8\", \"DNT\":\"1\",\"Connection\":\"close\", \"Upgrade-Insecure-Requests\":\"1\"}\n",
    "\n",
    "page = requests.get(URL, headers=headers)\n",
    "\n",
    "soup1 = BeautifulSoup(page.content, \"html.parser\")\n",
    "\n",
    "soup2 = BeautifulSoup(soup1.prettify(), \"html.parser\")\n",
    "\n",
    "title = soup2.find(id='productTitle').get_text()\n",
    "\n",
    "price = soup2.find('span',{'class':'a-offscreen'}).get_text()\n",
    "\n",
    "\n",
    "\n",
    "\n",
    "print(title)\n",
    "print(price)\n",
    "\n",
    "\n",
    "\n",
    "\n",
    "\n",
    "\n",
    "\n",
    "\n"
   ]
  },
  {
   "cell_type": "code",
   "execution_count": 3,
   "id": "acaff592",
   "metadata": {},
   "outputs": [],
   "source": [
    "#turn price into string\n",
    "n_price = str(price)"
   ]
  },
  {
   "cell_type": "code",
   "execution_count": 4,
   "id": "5948a226",
   "metadata": {},
   "outputs": [
    {
     "name": "stdout",
     "output_type": "stream",
     "text": [
      "RFUNGUANGO Automatic Pop-up Case Compatible with AirPods Pro 2nd Generation/1st Generation with Secure Lock Clip,Full-Body Shockproof Hard Protective Cover for AirPods Pro (2022/2019) - Black\n",
      "11.99\n"
     ]
    }
   ],
   "source": [
    "#clean up price and title\n",
    "price = n_price.strip()[1:]\n",
    "title = title.strip()\n",
    "\n",
    "print(title)\n",
    "print(price)"
   ]
  },
  {
   "cell_type": "code",
   "execution_count": 5,
   "id": "cbc7b80b",
   "metadata": {},
   "outputs": [],
   "source": [
    "#import datetime library\n",
    "import datetime\n",
    "\n",
    "today = datetime.date.today()"
   ]
  },
  {
   "cell_type": "code",
   "execution_count": 6,
   "id": "73a6063e",
   "metadata": {},
   "outputs": [],
   "source": [
    "#create csv data set\n",
    "import csv\n",
    "\n",
    "header = ['Title','Price','Date']\n",
    "data = [title,price,today]\n",
    "\n",
    "#with open('Amazon_webscraper.csv', 'w', newline='',encoding='UTF8') as k:\n",
    "    #writer = csv.writer(k)\n",
    "    #writer.writerow(header)\n",
    "    #writer.writerow(data)\n",
    "\n",
    "\n",
    "\n",
    "\n",
    "\n",
    "\n"
   ]
  },
  {
   "cell_type": "code",
   "execution_count": 10,
   "id": "3d0ea322",
   "metadata": {},
   "outputs": [
    {
     "name": "stdout",
     "output_type": "stream",
     "text": [
      "                                               Title  Price        Date\n",
      "0  RFUNGUANGO Automatic Pop-up Case Compatible wi...  11.99  2022-11-09\n",
      "1  RFUNGUANGO Automatic Pop-up Case Compatible wi...  11.99  2022-11-09\n",
      "2  RFUNGUANGO Automatic Pop-up Case Compatible wi...  11.99  2022-11-09\n"
     ]
    }
   ],
   "source": [
    "import pandas as pd\n",
    "\n",
    "(r'/Users/joshuamanzanillo/python tingz/Amazon_webscraper.csv')\n",
    "\n",
    "print(df)\n",
    "\n",
    "                 "
   ]
  },
  {
   "cell_type": "code",
   "execution_count": 9,
   "id": "6875bb12",
   "metadata": {},
   "outputs": [],
   "source": [
    "with open('Amazon_webscraper.csv', 'a+', newline='',encoding='UTF8') as k:\n",
    "    writer = csv.writer(k)\n",
    "    writer.writerow(data)"
   ]
  },
  {
   "cell_type": "code",
   "execution_count": 4,
   "id": "15518b04",
   "metadata": {},
   "outputs": [],
   "source": [
    "def check_price():\n",
    "    \n",
    "    URL = 'https://www.amazon.com/RFUNGUANGO-Compatible-Generation-Shockproof-Protective/dp/B0BCHVQYK2/ref=sr_1_16?crid=2VS1YMPAQ049N&keywords=1st%2Bgeneration%2Bairpod%2Bpro%2Bcase&qid=1667429841&qu=eyJxc2MiOiIzLjM3IiwicXNhIjoiMi4wMCIsInFzcCI6IjAuMDAifQ%3D%3D&sprefix=1st%2Bgeneration%2Bairpod%2Bpro%2Bcase%2Caps%2C86&sr=8-16&th=1'\n",
    "\n",
    "    headers = {\"User-Agent\": \"Mozilla/5.0 (Windows NT 10.0; Win64; x64) AppleWebKit/537.36 (KHTML, like Gecko) Chrome/78.0.3904.108 Safari/537.36\", \"Accept-Encoding\":\"gzip, deflate\", \"Accept\":\"text/html,application/xhtml+xml,application/xml;q=0.9,*/*;q=0.8\", \"DNT\":\"1\",\"Connection\":\"close\", \"Upgrade-Insecure-Requests\":\"1\"}\n",
    "\n",
    "    page = requests.get(URL, headers=headers)\n",
    "\n",
    "    soup1 = BeautifulSoup(page.content, \"html.parser\")\n",
    "\n",
    "    soup2 = BeautifulSoup(soup1.prettify(), \"html.parser\")\n",
    "\n",
    "    title = soup2.find(id='productTitle').get_text()\n",
    "\n",
    "    price = soup2.find('span',{'class':'a-offscreen'}).get_text()\n",
    "    \n",
    "    n_price = str(price)\n",
    "    \n",
    "    price = n_price.strip()[1:]\n",
    "    title = title.strip()\n",
    "    \n",
    "    import datetime\n",
    "\n",
    "    today = datetime.date.today()\n",
    "    \n",
    "    import csv\n",
    "    \n",
    "    header = ['Title','Price','Date']\n",
    "    data = [title,price,today]\n",
    "    \n",
    "    with open('Amazon_webscraper.csv', 'a+', newline='',encoding='UTF8') as k:\n",
    "        writer = csv.writer(k)\n",
    "        writer.writerow(data)\n",
    "    \n",
    "    \n",
    "    \n",
    "    \n",
    "    \n",
    "\n",
    "    "
   ]
  },
  {
   "cell_type": "code",
   "execution_count": null,
   "id": "4a1aa62a",
   "metadata": {},
   "outputs": [],
   "source": [
    "while True:\n",
    "    check_price()\n",
    "    time.sleep(86400)"
   ]
  },
  {
   "cell_type": "code",
   "execution_count": null,
   "id": "e2a3925d",
   "metadata": {},
   "outputs": [],
   "source": []
  }
 ],
 "metadata": {
  "kernelspec": {
   "display_name": "Python 3 (ipykernel)",
   "language": "python",
   "name": "python3"
  },
  "language_info": {
   "codemirror_mode": {
    "name": "ipython",
    "version": 3
   },
   "file_extension": ".py",
   "mimetype": "text/x-python",
   "name": "python",
   "nbconvert_exporter": "python",
   "pygments_lexer": "ipython3",
   "version": "3.9.7"
  }
 },
 "nbformat": 4,
 "nbformat_minor": 5
}
